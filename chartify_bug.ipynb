{
  "cells": [
    {
      "cell_type": "markdown",
      "metadata": {
        "id": "view-in-github",
        "colab_type": "text"
      },
      "source": [
        "<a href=\"https://colab.research.google.com/github/i-ninte/data-analytics-R-python/blob/main/chartify_bug.ipynb\" target=\"_parent\"><img src=\"https://colab.research.google.com/assets/colab-badge.svg\" alt=\"Open In Colab\"/></a>"
      ]
    },
    {
      "cell_type": "code",
      "execution_count": 1,
      "metadata": {
        "colab": {
          "base_uri": "https://localhost:8080/"
        },
        "id": "unBjWJHJ-ao5",
        "outputId": "6737e831-2066-4170-d214-fabe59c37dbd"
      },
      "outputs": [
        {
          "output_type": "stream",
          "name": "stdout",
          "text": [
            "Collecting chartify\n",
            "  Downloading chartify-4.0.5-py2.py3-none-any.whl (64 kB)\n",
            "\u001b[?25l     \u001b[90m━━━━━━━━━━━━━━━━━━━━━━━━━━━━━━━━━━━━━━━━\u001b[0m \u001b[32m0.0/64.0 kB\u001b[0m \u001b[31m?\u001b[0m eta \u001b[36m-:--:--\u001b[0m\r\u001b[2K     \u001b[90m━━━━━━━━━━━━━━━━━━━━━━━━━━━━━━━━━━━━━━━━\u001b[0m \u001b[32m64.0/64.0 kB\u001b[0m \u001b[31m2.1 MB/s\u001b[0m eta \u001b[36m0:00:00\u001b[0m\n",
            "\u001b[?25hRequirement already satisfied: pandas>=1.2.0 in /usr/local/lib/python3.10/dist-packages (from chartify) (1.5.3)\n",
            "Requirement already satisfied: Pillow>=9.1.0 in /usr/local/lib/python3.10/dist-packages (from chartify) (9.4.0)\n",
            "Collecting selenium>=4.0.0 (from chartify)\n",
            "  Downloading selenium-4.14.0-py3-none-any.whl (9.9 MB)\n",
            "\u001b[2K     \u001b[90m━━━━━━━━━━━━━━━━━━━━━━━━━━━━━━━━━━━━━━━━\u001b[0m \u001b[32m9.9/9.9 MB\u001b[0m \u001b[31m76.6 MB/s\u001b[0m eta \u001b[36m0:00:00\u001b[0m\n",
            "\u001b[?25hRequirement already satisfied: bokeh>=3.0.0 in /usr/local/lib/python3.10/dist-packages (from chartify) (3.2.2)\n",
            "Requirement already satisfied: scipy>=1.6.0 in /usr/local/lib/python3.10/dist-packages (from chartify) (1.11.3)\n",
            "Collecting ipykernel>=6.0 (from chartify)\n",
            "  Downloading ipykernel-6.25.2-py3-none-any.whl (154 kB)\n",
            "\u001b[2K     \u001b[90m━━━━━━━━━━━━━━━━━━━━━━━━━━━━━━━━━━━━━━━━\u001b[0m \u001b[32m154.2/154.2 kB\u001b[0m \u001b[31m17.6 MB/s\u001b[0m eta \u001b[36m0:00:00\u001b[0m\n",
            "\u001b[?25hRequirement already satisfied: ipython>=7.17.0 in /usr/local/lib/python3.10/dist-packages (from chartify) (7.34.0)\n",
            "Requirement already satisfied: pyyaml>=6.0.0 in /usr/local/lib/python3.10/dist-packages (from chartify) (6.0.1)\n",
            "Requirement already satisfied: Jinja2>=3.1.0 in /usr/local/lib/python3.10/dist-packages (from chartify) (3.1.2)\n",
            "Collecting jupyter-bokeh>=3.0.7 (from chartify)\n",
            "  Downloading jupyter_bokeh-3.0.7-py3-none-any.whl (1.4 MB)\n",
            "\u001b[2K     \u001b[90m━━━━━━━━━━━━━━━━━━━━━━━━━━━━━━━━━━━━━━━━\u001b[0m \u001b[32m1.4/1.4 MB\u001b[0m \u001b[31m89.6 MB/s\u001b[0m eta \u001b[36m0:00:00\u001b[0m\n",
            "\u001b[?25hRequirement already satisfied: tornado>=6.3.2 in /usr/local/lib/python3.10/dist-packages (from chartify) (6.3.2)\n",
            "Requirement already satisfied: contourpy>=1 in /usr/local/lib/python3.10/dist-packages (from bokeh>=3.0.0->chartify) (1.1.1)\n",
            "Requirement already satisfied: numpy>=1.16 in /usr/local/lib/python3.10/dist-packages (from bokeh>=3.0.0->chartify) (1.23.5)\n",
            "Requirement already satisfied: packaging>=16.8 in /usr/local/lib/python3.10/dist-packages (from bokeh>=3.0.0->chartify) (23.2)\n",
            "Requirement already satisfied: xyzservices>=2021.09.1 in /usr/local/lib/python3.10/dist-packages (from bokeh>=3.0.0->chartify) (2023.10.0)\n",
            "Collecting comm>=0.1.1 (from ipykernel>=6.0->chartify)\n",
            "  Downloading comm-0.1.4-py3-none-any.whl (6.6 kB)\n",
            "Requirement already satisfied: debugpy>=1.6.5 in /usr/local/lib/python3.10/dist-packages (from ipykernel>=6.0->chartify) (1.6.6)\n",
            "Requirement already satisfied: jupyter-client>=6.1.12 in /usr/local/lib/python3.10/dist-packages (from ipykernel>=6.0->chartify) (6.1.12)\n",
            "Requirement already satisfied: jupyter-core!=5.0.*,>=4.12 in /usr/local/lib/python3.10/dist-packages (from ipykernel>=6.0->chartify) (5.4.0)\n",
            "Requirement already satisfied: matplotlib-inline>=0.1 in /usr/local/lib/python3.10/dist-packages (from ipykernel>=6.0->chartify) (0.1.6)\n",
            "Requirement already satisfied: nest-asyncio in /usr/local/lib/python3.10/dist-packages (from ipykernel>=6.0->chartify) (1.5.8)\n",
            "Requirement already satisfied: psutil in /usr/local/lib/python3.10/dist-packages (from ipykernel>=6.0->chartify) (5.9.5)\n",
            "Requirement already satisfied: pyzmq>=20 in /usr/local/lib/python3.10/dist-packages (from ipykernel>=6.0->chartify) (23.2.1)\n",
            "Requirement already satisfied: traitlets>=5.4.0 in /usr/local/lib/python3.10/dist-packages (from ipykernel>=6.0->chartify) (5.7.1)\n",
            "Requirement already satisfied: setuptools>=18.5 in /usr/local/lib/python3.10/dist-packages (from ipython>=7.17.0->chartify) (67.7.2)\n",
            "Collecting jedi>=0.16 (from ipython>=7.17.0->chartify)\n",
            "  Downloading jedi-0.19.1-py2.py3-none-any.whl (1.6 MB)\n",
            "\u001b[2K     \u001b[90m━━━━━━━━━━━━━━━━━━━━━━━━━━━━━━━━━━━━━━━━\u001b[0m \u001b[32m1.6/1.6 MB\u001b[0m \u001b[31m101.1 MB/s\u001b[0m eta \u001b[36m0:00:00\u001b[0m\n",
            "\u001b[?25hRequirement already satisfied: decorator in /usr/local/lib/python3.10/dist-packages (from ipython>=7.17.0->chartify) (4.4.2)\n",
            "Requirement already satisfied: pickleshare in /usr/local/lib/python3.10/dist-packages (from ipython>=7.17.0->chartify) (0.7.5)\n",
            "Requirement already satisfied: prompt-toolkit!=3.0.0,!=3.0.1,<3.1.0,>=2.0.0 in /usr/local/lib/python3.10/dist-packages (from ipython>=7.17.0->chartify) (3.0.39)\n",
            "Requirement already satisfied: pygments in /usr/local/lib/python3.10/dist-packages (from ipython>=7.17.0->chartify) (2.16.1)\n",
            "Requirement already satisfied: backcall in /usr/local/lib/python3.10/dist-packages (from ipython>=7.17.0->chartify) (0.2.0)\n",
            "Requirement already satisfied: pexpect>4.3 in /usr/local/lib/python3.10/dist-packages (from ipython>=7.17.0->chartify) (4.8.0)\n",
            "Requirement already satisfied: MarkupSafe>=2.0 in /usr/local/lib/python3.10/dist-packages (from Jinja2>=3.1.0->chartify) (2.1.3)\n",
            "Collecting ipywidgets==8.* (from jupyter-bokeh>=3.0.7->chartify)\n",
            "  Downloading ipywidgets-8.1.1-py3-none-any.whl (139 kB)\n",
            "\u001b[2K     \u001b[90m━━━━━━━━━━━━━━━━━━━━━━━━━━━━━━━━━━━━━━━━\u001b[0m \u001b[32m139.4/139.4 kB\u001b[0m \u001b[31m17.9 MB/s\u001b[0m eta \u001b[36m0:00:00\u001b[0m\n",
            "\u001b[?25hCollecting widgetsnbextension~=4.0.9 (from ipywidgets==8.*->jupyter-bokeh>=3.0.7->chartify)\n",
            "  Downloading widgetsnbextension-4.0.9-py3-none-any.whl (2.3 MB)\n",
            "\u001b[2K     \u001b[90m━━━━━━━━━━━━━━━━━━━━━━━━━━━━━━━━━━━━━━━━\u001b[0m \u001b[32m2.3/2.3 MB\u001b[0m \u001b[31m105.2 MB/s\u001b[0m eta \u001b[36m0:00:00\u001b[0m\n",
            "\u001b[?25hRequirement already satisfied: jupyterlab-widgets~=3.0.9 in /usr/local/lib/python3.10/dist-packages (from ipywidgets==8.*->jupyter-bokeh>=3.0.7->chartify) (3.0.9)\n",
            "Requirement already satisfied: python-dateutil>=2.8.1 in /usr/local/lib/python3.10/dist-packages (from pandas>=1.2.0->chartify) (2.8.2)\n",
            "Requirement already satisfied: pytz>=2020.1 in /usr/local/lib/python3.10/dist-packages (from pandas>=1.2.0->chartify) (2023.3.post1)\n",
            "Requirement already satisfied: urllib3[socks]<3,>=1.26 in /usr/local/lib/python3.10/dist-packages (from selenium>=4.0.0->chartify) (2.0.6)\n",
            "Collecting trio~=0.17 (from selenium>=4.0.0->chartify)\n",
            "  Downloading trio-0.22.2-py3-none-any.whl (400 kB)\n",
            "\u001b[2K     \u001b[90m━━━━━━━━━━━━━━━━━━━━━━━━━━━━━━━━━━━━━━━━\u001b[0m \u001b[32m400.2/400.2 kB\u001b[0m \u001b[31m48.1 MB/s\u001b[0m eta \u001b[36m0:00:00\u001b[0m\n",
            "\u001b[?25hCollecting trio-websocket~=0.9 (from selenium>=4.0.0->chartify)\n",
            "  Downloading trio_websocket-0.11.1-py3-none-any.whl (17 kB)\n",
            "Requirement already satisfied: certifi>=2021.10.8 in /usr/local/lib/python3.10/dist-packages (from selenium>=4.0.0->chartify) (2023.7.22)\n",
            "Requirement already satisfied: parso<0.9.0,>=0.8.3 in /usr/local/lib/python3.10/dist-packages (from jedi>=0.16->ipython>=7.17.0->chartify) (0.8.3)\n",
            "Requirement already satisfied: platformdirs>=2.5 in /usr/local/lib/python3.10/dist-packages (from jupyter-core!=5.0.*,>=4.12->ipykernel>=6.0->chartify) (3.11.0)\n",
            "Requirement already satisfied: ptyprocess>=0.5 in /usr/local/lib/python3.10/dist-packages (from pexpect>4.3->ipython>=7.17.0->chartify) (0.7.0)\n",
            "Requirement already satisfied: wcwidth in /usr/local/lib/python3.10/dist-packages (from prompt-toolkit!=3.0.0,!=3.0.1,<3.1.0,>=2.0.0->ipython>=7.17.0->chartify) (0.2.8)\n",
            "Requirement already satisfied: six>=1.5 in /usr/local/lib/python3.10/dist-packages (from python-dateutil>=2.8.1->pandas>=1.2.0->chartify) (1.16.0)\n",
            "Requirement already satisfied: attrs>=20.1.0 in /usr/local/lib/python3.10/dist-packages (from trio~=0.17->selenium>=4.0.0->chartify) (23.1.0)\n",
            "Requirement already satisfied: sortedcontainers in /usr/local/lib/python3.10/dist-packages (from trio~=0.17->selenium>=4.0.0->chartify) (2.4.0)\n",
            "Requirement already satisfied: idna in /usr/local/lib/python3.10/dist-packages (from trio~=0.17->selenium>=4.0.0->chartify) (3.4)\n",
            "Collecting outcome (from trio~=0.17->selenium>=4.0.0->chartify)\n",
            "  Downloading outcome-1.2.0-py2.py3-none-any.whl (9.7 kB)\n",
            "Requirement already satisfied: sniffio in /usr/local/lib/python3.10/dist-packages (from trio~=0.17->selenium>=4.0.0->chartify) (1.3.0)\n",
            "Requirement already satisfied: exceptiongroup>=1.0.0rc9 in /usr/local/lib/python3.10/dist-packages (from trio~=0.17->selenium>=4.0.0->chartify) (1.1.3)\n",
            "Collecting wsproto>=0.14 (from trio-websocket~=0.9->selenium>=4.0.0->chartify)\n",
            "  Downloading wsproto-1.2.0-py3-none-any.whl (24 kB)\n",
            "Requirement already satisfied: pysocks!=1.5.7,<2.0,>=1.5.6 in /usr/local/lib/python3.10/dist-packages (from urllib3[socks]<3,>=1.26->selenium>=4.0.0->chartify) (1.7.1)\n",
            "Collecting h11<1,>=0.9.0 (from wsproto>=0.14->trio-websocket~=0.9->selenium>=4.0.0->chartify)\n",
            "  Downloading h11-0.14.0-py3-none-any.whl (58 kB)\n",
            "\u001b[2K     \u001b[90m━━━━━━━━━━━━━━━━━━━━━━━━━━━━━━━━━━━━━━━━\u001b[0m \u001b[32m58.3/58.3 kB\u001b[0m \u001b[31m7.7 MB/s\u001b[0m eta \u001b[36m0:00:00\u001b[0m\n",
            "\u001b[?25hInstalling collected packages: widgetsnbextension, outcome, jedi, h11, comm, wsproto, trio, trio-websocket, ipywidgets, ipykernel, selenium, jupyter-bokeh, chartify\n",
            "  Attempting uninstall: widgetsnbextension\n",
            "    Found existing installation: widgetsnbextension 3.6.6\n",
            "    Uninstalling widgetsnbextension-3.6.6:\n",
            "      Successfully uninstalled widgetsnbextension-3.6.6\n",
            "  Attempting uninstall: ipywidgets\n",
            "    Found existing installation: ipywidgets 7.7.1\n",
            "    Uninstalling ipywidgets-7.7.1:\n",
            "      Successfully uninstalled ipywidgets-7.7.1\n",
            "  Attempting uninstall: ipykernel\n",
            "    Found existing installation: ipykernel 5.5.6\n",
            "    Uninstalling ipykernel-5.5.6:\n",
            "      Successfully uninstalled ipykernel-5.5.6\n",
            "\u001b[31mERROR: pip's dependency resolver does not currently take into account all the packages that are installed. This behaviour is the source of the following dependency conflicts.\n",
            "google-colab 1.0.0 requires ipykernel==5.5.6, but you have ipykernel 6.25.2 which is incompatible.\u001b[0m\u001b[31m\n",
            "\u001b[0mSuccessfully installed chartify-4.0.5 comm-0.1.4 h11-0.14.0 ipykernel-6.25.2 ipywidgets-8.1.1 jedi-0.19.1 jupyter-bokeh-3.0.7 outcome-1.2.0 selenium-4.14.0 trio-0.22.2 trio-websocket-0.11.1 widgetsnbextension-4.0.9 wsproto-1.2.0\n"
          ]
        }
      ],
      "source": [
        "pip install chartify"
      ]
    },
    {
      "cell_type": "code",
      "source": [
        "import pandas as pd\n",
        "import chartify\n",
        "\n",
        "# Project data\n",
        "projects = ['STG', 'GT1', 'GT2', 'HRSG 1', 'HRSG 2', 'DIVERTER DAMPER', 'OTCS', 'DEBRIS FILTER']\n",
        "days_assigned = [10, 15, 8, 12, 10, 5, 7, 3]\n",
        "days_done = [8, 10, 6, 10, 8, 4, 6, 2]\n",
        "percentage_completion = [(done / assigned) * 100 for done, assigned in zip(days_done, days_assigned)]\n",
        "\n",
        "# Create a DataFrame\n",
        "data = {'Project': projects, 'Days Assigned': days_assigned, 'Days Done': days_done, 'Completion (%)': percentage_completion}\n",
        "df = pd.DataFrame(data)\n",
        "\n",
        "# Create a Chartify chart\n",
        "ch = chartify.Chart(blank_labels=True)\n",
        "\n",
        "# Add data to the chart\n",
        "ch.set_title('Project Progress')\n",
        "ch.set_subtitle('Number of Days Assigned, Days Done, and Percentage Completion')\n",
        "\n",
        "ch.plot.bar(data_frame=df, categorical_columns='Project', numeric_column=['Days Assigned', 'Days Done'],\n",
        "            categorical_order_ascending=True, stacked=True)\n",
        "\n",
        "ch.plot.line(data_frame=df, x_column='Project', y_column='Completion (%)', color='red')\n",
        "\n",
        "# Add labels and legends\n",
        "ch.axes.set_yaxis_label('Number of Days')\n",
        "ch.axes.set_xaxis_label('Projects')\n",
        "ch.legend.set_title('Legend')\n",
        "ch.legend.set_location('outside_bottom')\n",
        "\n",
        "# Show the chart\n",
        "ch.show('png')\n"
      ],
      "metadata": {
        "colab": {
          "base_uri": "https://localhost:8080/",
          "height": 435
        },
        "id": "hCEYTpfgD6v5",
        "outputId": "877924ed-ea12-4223-e23c-d1bc62fc5216"
      },
      "execution_count": 2,
      "outputs": [
        {
          "output_type": "error",
          "ename": "AttributeError",
          "evalue": "ignored",
          "traceback": [
            "\u001b[0;31m---------------------------------------------------------------------------\u001b[0m",
            "\u001b[0;31mAttributeError\u001b[0m                            Traceback (most recent call last)",
            "\u001b[0;32m<ipython-input-2-3a0414276cba>\u001b[0m in \u001b[0;36m<cell line: 21>\u001b[0;34m()\u001b[0m\n\u001b[1;32m     19\u001b[0m \u001b[0mch\u001b[0m\u001b[0;34m.\u001b[0m\u001b[0mset_subtitle\u001b[0m\u001b[0;34m(\u001b[0m\u001b[0;34m'Number of Days Assigned, Days Done, and Percentage Completion'\u001b[0m\u001b[0;34m)\u001b[0m\u001b[0;34m\u001b[0m\u001b[0;34m\u001b[0m\u001b[0m\n\u001b[1;32m     20\u001b[0m \u001b[0;34m\u001b[0m\u001b[0m\n\u001b[0;32m---> 21\u001b[0;31m ch.plot.bar(data_frame=df, categorical_columns='Project', numeric_column=['Days Assigned', 'Days Done'], \n\u001b[0m\u001b[1;32m     22\u001b[0m             categorical_order_ascending=True, stacked=True)\n\u001b[1;32m     23\u001b[0m \u001b[0;34m\u001b[0m\u001b[0m\n",
            "\u001b[0;32m/usr/local/lib/python3.10/dist-packages/chartify/_core/plot.py\u001b[0m in \u001b[0;36m__getattr__\u001b[0;34m(self, item)\u001b[0m\n\u001b[1;32m    149\u001b[0m     \u001b[0;32mdef\u001b[0m \u001b[0m__getattr__\u001b[0m\u001b[0;34m(\u001b[0m\u001b[0mself\u001b[0m\u001b[0;34m,\u001b[0m \u001b[0mitem\u001b[0m\u001b[0;34m)\u001b[0m\u001b[0;34m:\u001b[0m\u001b[0;34m\u001b[0m\u001b[0;34m\u001b[0m\u001b[0m\n\u001b[1;32m    150\u001b[0m         \u001b[0;34m\"\"\"Override attribute error\"\"\"\u001b[0m\u001b[0;34m\u001b[0m\u001b[0;34m\u001b[0m\u001b[0m\n\u001b[0;32m--> 151\u001b[0;31m         raise AttributeError(\n\u001b[0m\u001b[1;32m    152\u001b[0m             \"\"\"Plot `{}` not avaiable for the given Chart.\n\u001b[1;32m    153\u001b[0m             \u001b[0mTry\u001b[0m \u001b[0mchanging\u001b[0m \u001b[0mthe\u001b[0m \u001b[0mChart\u001b[0m \u001b[0mparameters\u001b[0m \u001b[0mx_axis_type\u001b[0m \u001b[0;32mand\u001b[0m \u001b[0my_axis_type\u001b[0m\u001b[0;34m.\u001b[0m\u001b[0;34m\u001b[0m\u001b[0;34m\u001b[0m\u001b[0m\n",
            "\u001b[0;31mAttributeError\u001b[0m: Plot `bar` not avaiable for the given Chart.\n            Try changing the Chart parameters x_axis_type and y_axis_type.\n            "
          ]
        }
      ]
    },
    {
      "cell_type": "code",
      "source": [
        "import pandas as pd\n",
        "import chartify\n",
        "\n",
        "# Project data\n",
        "projects = ['STG', 'GT1', 'GT2', 'HRSG 1', 'HRSG 2', 'DIVERTER DAMPER', 'OTCS', 'DEBRIS FILTER']\n",
        "days_assigned = [10, 15, 8, 12, 10, 5, 7, 3]\n",
        "days_done = [8, 10, 6, 10, 8, 4, 6, 2]\n",
        "percentage_completion = [(done / assigned) * 100 for done, assigned in zip(days_done, days_assigned)]\n",
        "\n",
        "# Create a DataFrame\n",
        "data = {'Project': projects, 'Days Assigned': days_assigned, 'Days Done': days_done, 'Completion (%)': percentage_completion}\n",
        "df = pd.DataFrame(data)\n",
        "\n",
        "# Create a Chartify chart\n",
        "ch = chartify.Chart(df)\n",
        "\n",
        "# Add data to the chart\n",
        "ch.set_title('Project Progress')\n",
        "ch.set_subtitle('Number of Days Assigned, Days Done, and Percentage Completion')\n",
        "\n",
        "# Create a bar chart\n",
        "ch.plot.bar(column=['Project', 'Days Assigned', 'Days Done'], categorical_columns='Project')\n",
        "\n",
        "ch.plot.line(data_frame=df, x_column='Project', y_column='Completion (%)', color='red')\n",
        "\n",
        "# Add labels and legends\n",
        "ch.axes.set_yaxis_label('Number of Days')\n",
        "ch.axes.set_xaxis_label('Projects')\n",
        "ch.legend.set_title('Legend')\n",
        "ch.legend.set_location('outside_bottom')\n",
        "\n",
        "# Show the chart\n",
        "ch.show('png')\n"
      ],
      "metadata": {
        "colab": {
          "base_uri": "https://localhost:8080/",
          "height": 420
        },
        "id": "CxSbdHA1ESxb",
        "outputId": "c8d23df1-30b3-4d84-ae43-95ab9eeced25"
      },
      "execution_count": 3,
      "outputs": [
        {
          "output_type": "error",
          "ename": "ValueError",
          "evalue": "ignored",
          "traceback": [
            "\u001b[0;31m---------------------------------------------------------------------------\u001b[0m",
            "\u001b[0;31mValueError\u001b[0m                                Traceback (most recent call last)",
            "\u001b[0;32m<ipython-input-3-311c6b846aa7>\u001b[0m in \u001b[0;36m<cell line: 15>\u001b[0;34m()\u001b[0m\n\u001b[1;32m     13\u001b[0m \u001b[0;34m\u001b[0m\u001b[0m\n\u001b[1;32m     14\u001b[0m \u001b[0;31m# Create a Chartify chart\u001b[0m\u001b[0;34m\u001b[0m\u001b[0;34m\u001b[0m\u001b[0m\n\u001b[0;32m---> 15\u001b[0;31m \u001b[0mch\u001b[0m \u001b[0;34m=\u001b[0m \u001b[0mchartify\u001b[0m\u001b[0;34m.\u001b[0m\u001b[0mChart\u001b[0m\u001b[0;34m(\u001b[0m\u001b[0mdf\u001b[0m\u001b[0;34m)\u001b[0m\u001b[0;34m\u001b[0m\u001b[0;34m\u001b[0m\u001b[0m\n\u001b[0m\u001b[1;32m     16\u001b[0m \u001b[0;34m\u001b[0m\u001b[0m\n\u001b[1;32m     17\u001b[0m \u001b[0;31m# Add data to the chart\u001b[0m\u001b[0;34m\u001b[0m\u001b[0;34m\u001b[0m\u001b[0m\n",
            "\u001b[0;32m/usr/local/lib/python3.10/dist-packages/chartify/_core/chart.py\u001b[0m in \u001b[0;36m__init__\u001b[0;34m(self, blank_labels, layout, x_axis_type, y_axis_type, second_y_axis)\u001b[0m\n\u001b[1;32m    119\u001b[0m         \u001b[0mself\u001b[0m\u001b[0;34m.\u001b[0m\u001b[0mplot\u001b[0m \u001b[0;34m=\u001b[0m \u001b[0mBasePlot\u001b[0m\u001b[0;34m.\u001b[0m\u001b[0m_get_plot_class\u001b[0m\u001b[0;34m(\u001b[0m\u001b[0mself\u001b[0m\u001b[0;34m.\u001b[0m\u001b[0m_x_axis_type\u001b[0m\u001b[0;34m,\u001b[0m \u001b[0mself\u001b[0m\u001b[0;34m.\u001b[0m\u001b[0m_y_axis_type\u001b[0m\u001b[0;34m)\u001b[0m\u001b[0;34m(\u001b[0m\u001b[0mself\u001b[0m\u001b[0;34m)\u001b[0m\u001b[0;34m\u001b[0m\u001b[0;34m\u001b[0m\u001b[0m\n\u001b[1;32m    120\u001b[0m         \u001b[0mself\u001b[0m\u001b[0;34m.\u001b[0m\u001b[0mcallout\u001b[0m \u001b[0;34m=\u001b[0m \u001b[0mCallout\u001b[0m\u001b[0;34m(\u001b[0m\u001b[0mself\u001b[0m\u001b[0;34m)\u001b[0m\u001b[0;34m\u001b[0m\u001b[0;34m\u001b[0m\u001b[0m\n\u001b[0;32m--> 121\u001b[0;31m         \u001b[0mself\u001b[0m\u001b[0;34m.\u001b[0m\u001b[0maxes\u001b[0m \u001b[0;34m=\u001b[0m \u001b[0mBaseAxes\u001b[0m\u001b[0;34m.\u001b[0m\u001b[0m_get_axis_class\u001b[0m\u001b[0;34m(\u001b[0m\u001b[0mself\u001b[0m\u001b[0;34m.\u001b[0m\u001b[0m_x_axis_type\u001b[0m\u001b[0;34m,\u001b[0m \u001b[0mself\u001b[0m\u001b[0;34m.\u001b[0m\u001b[0m_y_axis_type\u001b[0m\u001b[0;34m)\u001b[0m\u001b[0;34m(\u001b[0m\u001b[0mself\u001b[0m\u001b[0;34m)\u001b[0m\u001b[0;34m\u001b[0m\u001b[0;34m\u001b[0m\u001b[0m\n\u001b[0m\u001b[1;32m    122\u001b[0m \u001b[0;34m\u001b[0m\u001b[0m\n\u001b[1;32m    123\u001b[0m         \u001b[0;32mif\u001b[0m \u001b[0mself\u001b[0m\u001b[0;34m.\u001b[0m\u001b[0m_second_y_axis_type\u001b[0m \u001b[0;32min\u001b[0m \u001b[0mvalid_second_y_axis_types\u001b[0m\u001b[0;34m:\u001b[0m\u001b[0;34m\u001b[0m\u001b[0;34m\u001b[0m\u001b[0m\n",
            "\u001b[0;32m/usr/local/lib/python3.10/dist-packages/chartify/_core/axes.py\u001b[0m in \u001b[0;36m__init__\u001b[0;34m(self, chart)\u001b[0m\n\u001b[1;32m     71\u001b[0m         \u001b[0mself\u001b[0m\u001b[0;34m.\u001b[0m\u001b[0m_chart\u001b[0m \u001b[0;34m=\u001b[0m \u001b[0mchart\u001b[0m\u001b[0;34m\u001b[0m\u001b[0;34m\u001b[0m\u001b[0m\n\u001b[1;32m     72\u001b[0m         \u001b[0msuper\u001b[0m\u001b[0;34m(\u001b[0m\u001b[0mBaseAxes\u001b[0m\u001b[0;34m,\u001b[0m \u001b[0mself\u001b[0m\u001b[0;34m)\u001b[0m\u001b[0;34m.\u001b[0m\u001b[0m__init__\u001b[0m\u001b[0;34m(\u001b[0m\u001b[0;34m)\u001b[0m\u001b[0;34m\u001b[0m\u001b[0;34m\u001b[0m\u001b[0m\n\u001b[0;32m---> 73\u001b[0;31m         \u001b[0mself\u001b[0m\u001b[0;34m.\u001b[0m\u001b[0m_initialize_defaults\u001b[0m\u001b[0;34m(\u001b[0m\u001b[0;34m)\u001b[0m\u001b[0;34m\u001b[0m\u001b[0;34m\u001b[0m\u001b[0m\n\u001b[0m\u001b[1;32m     74\u001b[0m \u001b[0;34m\u001b[0m\u001b[0m\n\u001b[1;32m     75\u001b[0m     \u001b[0;34m@\u001b[0m\u001b[0mclassmethod\u001b[0m\u001b[0;34m\u001b[0m\u001b[0;34m\u001b[0m\u001b[0m\n",
            "\u001b[0;32m/usr/local/lib/python3.10/dist-packages/chartify/_core/axes.py\u001b[0m in \u001b[0;36m_initialize_defaults\u001b[0;34m(self)\u001b[0m\n\u001b[1;32m     97\u001b[0m         \u001b[0mxaxis_label\u001b[0m \u001b[0;34m=\u001b[0m \u001b[0;34m\"\"\"ch.axes.set_xaxis_label('label (units)')\"\"\"\u001b[0m\u001b[0;34m\u001b[0m\u001b[0;34m\u001b[0m\u001b[0m\n\u001b[1;32m     98\u001b[0m         \u001b[0myaxis_label\u001b[0m \u001b[0;34m=\u001b[0m \u001b[0;34m\"\"\"ch.axes.set_yaxis_label('label (units)')\"\"\"\u001b[0m\u001b[0;34m\u001b[0m\u001b[0;34m\u001b[0m\u001b[0m\n\u001b[0;32m---> 99\u001b[0;31m         \u001b[0;32mif\u001b[0m \u001b[0mself\u001b[0m\u001b[0;34m.\u001b[0m\u001b[0m_chart\u001b[0m\u001b[0;34m.\u001b[0m\u001b[0m_blank_labels\u001b[0m\u001b[0;34m:\u001b[0m\u001b[0;34m\u001b[0m\u001b[0;34m\u001b[0m\u001b[0m\n\u001b[0m\u001b[1;32m    100\u001b[0m             \u001b[0mxaxis_label\u001b[0m \u001b[0;34m=\u001b[0m \u001b[0;34m\"\"\u001b[0m\u001b[0;34m\u001b[0m\u001b[0;34m\u001b[0m\u001b[0m\n\u001b[1;32m    101\u001b[0m             \u001b[0myaxis_label\u001b[0m \u001b[0;34m=\u001b[0m \u001b[0;34m\"\"\u001b[0m\u001b[0;34m\u001b[0m\u001b[0;34m\u001b[0m\u001b[0m\n",
            "\u001b[0;32m/usr/local/lib/python3.10/dist-packages/pandas/core/generic.py\u001b[0m in \u001b[0;36m__nonzero__\u001b[0;34m(self)\u001b[0m\n\u001b[1;32m   1525\u001b[0m     \u001b[0;34m@\u001b[0m\u001b[0mfinal\u001b[0m\u001b[0;34m\u001b[0m\u001b[0;34m\u001b[0m\u001b[0m\n\u001b[1;32m   1526\u001b[0m     \u001b[0;32mdef\u001b[0m \u001b[0m__nonzero__\u001b[0m\u001b[0;34m(\u001b[0m\u001b[0mself\u001b[0m\u001b[0;34m)\u001b[0m \u001b[0;34m->\u001b[0m \u001b[0mNoReturn\u001b[0m\u001b[0;34m:\u001b[0m\u001b[0;34m\u001b[0m\u001b[0;34m\u001b[0m\u001b[0m\n\u001b[0;32m-> 1527\u001b[0;31m         raise ValueError(\n\u001b[0m\u001b[1;32m   1528\u001b[0m             \u001b[0;34mf\"The truth value of a {type(self).__name__} is ambiguous. \"\u001b[0m\u001b[0;34m\u001b[0m\u001b[0;34m\u001b[0m\u001b[0m\n\u001b[1;32m   1529\u001b[0m             \u001b[0;34m\"Use a.empty, a.bool(), a.item(), a.any() or a.all().\"\u001b[0m\u001b[0;34m\u001b[0m\u001b[0;34m\u001b[0m\u001b[0m\n",
            "\u001b[0;31mValueError\u001b[0m: The truth value of a DataFrame is ambiguous. Use a.empty, a.bool(), a.item(), a.any() or a.all()."
          ]
        }
      ]
    },
    {
      "cell_type": "code",
      "source": [
        "import pandas as pd\n",
        "import chartify\n",
        "\n",
        "# Project data\n",
        "projects = ['STG', 'GT1', 'GT2', 'HRSG 1', 'HRSG 2', 'DIVERTER DAMPER', 'OTCS', 'DEBRIS FILTER']\n",
        "days_assigned = [10, 15, 8, 12, 10, 5, 7, 3]\n",
        "days_done = [8, 10, 6, 10, 8, 4, 6, 2]\n",
        "percentage_completion = [(done / assigned) * 100 for done, assigned in zip(days_done, days_assigned)]\n",
        "\n",
        "# Create a DataFrame\n",
        "data = {'Project': projects, 'Days Assigned': days_assigned, 'Days Done': days_done, 'Completion (%)': percentage_completion}\n",
        "df = pd.DataFrame(data)\n",
        "\n",
        "# Create a Chartify chart\n",
        "ch = chartify.Chart(blank_labels=True)\n",
        "\n",
        "# Add data to the chart\n",
        "ch.set_title('Project Progress')\n",
        "ch.set_subtitle('Number of Days Assigned, Days Done, and Percentage Completion')\n",
        "\n",
        "ch.plot.bar_stacked(data_frame=df, categorical_columns='Project', numeric_column=['Days Assigned', 'Days Done'])\n",
        "\n",
        "\n",
        "ch.plot.line(data_frame=df, x_column='Project', y_column='Completion (%)', color='red')\n",
        "\n",
        "# Add labels and legends\n",
        "ch.axes.set_yaxis_label('Number of Days')\n",
        "ch.axes.set_xaxis_label('Projects')\n",
        "ch.legend.set_title('Legend')\n",
        "ch.legend.set_location('outside_bottom')\n",
        "\n",
        "# Show the chart\n",
        "ch.show('png')\n"
      ],
      "metadata": {
        "colab": {
          "base_uri": "https://localhost:8080/",
          "height": 435
        },
        "id": "DHbQsaxsEgEU",
        "outputId": "659e4605-9954-47f7-b21c-ab229d42feb7"
      },
      "execution_count": 7,
      "outputs": [
        {
          "output_type": "error",
          "ename": "AttributeError",
          "evalue": "ignored",
          "traceback": [
            "\u001b[0;31m---------------------------------------------------------------------------\u001b[0m",
            "\u001b[0;31mAttributeError\u001b[0m                            Traceback (most recent call last)",
            "\u001b[0;32m<ipython-input-7-47c5805f66f4>\u001b[0m in \u001b[0;36m<cell line: 21>\u001b[0;34m()\u001b[0m\n\u001b[1;32m     19\u001b[0m \u001b[0mch\u001b[0m\u001b[0;34m.\u001b[0m\u001b[0mset_subtitle\u001b[0m\u001b[0;34m(\u001b[0m\u001b[0;34m'Number of Days Assigned, Days Done, and Percentage Completion'\u001b[0m\u001b[0;34m)\u001b[0m\u001b[0;34m\u001b[0m\u001b[0;34m\u001b[0m\u001b[0m\n\u001b[1;32m     20\u001b[0m \u001b[0;34m\u001b[0m\u001b[0m\n\u001b[0;32m---> 21\u001b[0;31m \u001b[0mch\u001b[0m\u001b[0;34m.\u001b[0m\u001b[0mplot\u001b[0m\u001b[0;34m.\u001b[0m\u001b[0mbar_stacked\u001b[0m\u001b[0;34m(\u001b[0m\u001b[0mdata_frame\u001b[0m\u001b[0;34m=\u001b[0m\u001b[0mdf\u001b[0m\u001b[0;34m,\u001b[0m \u001b[0mcategorical_columns\u001b[0m\u001b[0;34m=\u001b[0m\u001b[0;34m'Project'\u001b[0m\u001b[0;34m,\u001b[0m \u001b[0mnumeric_column\u001b[0m\u001b[0;34m=\u001b[0m\u001b[0;34m[\u001b[0m\u001b[0;34m'Days Assigned'\u001b[0m\u001b[0;34m,\u001b[0m \u001b[0;34m'Days Done'\u001b[0m\u001b[0;34m]\u001b[0m\u001b[0;34m)\u001b[0m\u001b[0;34m\u001b[0m\u001b[0;34m\u001b[0m\u001b[0m\n\u001b[0m\u001b[1;32m     22\u001b[0m \u001b[0;34m\u001b[0m\u001b[0m\n\u001b[1;32m     23\u001b[0m \u001b[0;34m\u001b[0m\u001b[0m\n",
            "\u001b[0;32m/usr/local/lib/python3.10/dist-packages/chartify/_core/plot.py\u001b[0m in \u001b[0;36m__getattr__\u001b[0;34m(self, item)\u001b[0m\n\u001b[1;32m    149\u001b[0m     \u001b[0;32mdef\u001b[0m \u001b[0m__getattr__\u001b[0m\u001b[0;34m(\u001b[0m\u001b[0mself\u001b[0m\u001b[0;34m,\u001b[0m \u001b[0mitem\u001b[0m\u001b[0;34m)\u001b[0m\u001b[0;34m:\u001b[0m\u001b[0;34m\u001b[0m\u001b[0;34m\u001b[0m\u001b[0m\n\u001b[1;32m    150\u001b[0m         \u001b[0;34m\"\"\"Override attribute error\"\"\"\u001b[0m\u001b[0;34m\u001b[0m\u001b[0;34m\u001b[0m\u001b[0m\n\u001b[0;32m--> 151\u001b[0;31m         raise AttributeError(\n\u001b[0m\u001b[1;32m    152\u001b[0m             \"\"\"Plot `{}` not avaiable for the given Chart.\n\u001b[1;32m    153\u001b[0m             \u001b[0mTry\u001b[0m \u001b[0mchanging\u001b[0m \u001b[0mthe\u001b[0m \u001b[0mChart\u001b[0m \u001b[0mparameters\u001b[0m \u001b[0mx_axis_type\u001b[0m \u001b[0;32mand\u001b[0m \u001b[0my_axis_type\u001b[0m\u001b[0;34m.\u001b[0m\u001b[0;34m\u001b[0m\u001b[0;34m\u001b[0m\u001b[0m\n",
            "\u001b[0;31mAttributeError\u001b[0m: Plot `bar_stacked` not avaiable for the given Chart.\n            Try changing the Chart parameters x_axis_type and y_axis_type.\n            "
          ]
        }
      ]
    },
    {
      "cell_type": "code",
      "source": [
        "import pandas as pd\n",
        "import matplotlib.pyplot as plt\n",
        "\n",
        "# Project data\n",
        "projects = ['STG', 'GT1', 'GT2', 'HRSG 1', 'HRSG 2', 'DIVERTER DAMPER', 'OTCS', 'DEBRIS FILTER']\n",
        "days_assigned = [10, 15, 8, 12, 10, 5, 7, 3]\n",
        "days_done = [8, 10, 6, 10, 8, 4, 6, 2]\n",
        "percentage_completion = [(done / assigned) * 100 for done, assigned in zip(days_done, days_assigned)]\n",
        "\n",
        "# Create a DataFrame\n",
        "data = {'Project': projects, 'Days Assigned': days_assigned, 'Days Done': days_done, 'Completion (%)': percentage_completion}\n",
        "df = pd.DataFrame(data)\n",
        "\n",
        "# Create a bar chart using Matplotlib\n",
        "plt.figure(figsize=(10, 6))\n",
        "plt.bar(df['Project'], df['Days Assigned'], label='Days Assigned')\n",
        "plt.bar(df['Project'], df['Days Done'], label='Days Done')\n",
        "plt.xlabel('Projects')\n",
        "plt.ylabel('Number of Days')\n",
        "plt.title('Project Progress')\n",
        "plt.legend()\n",
        "\n",
        "# Show the chart\n",
        "plt.show()\n"
      ],
      "metadata": {
        "colab": {
          "base_uri": "https://localhost:8080/",
          "height": 564
        },
        "id": "OG8Y7I4oE8gA",
        "outputId": "688d8449-8399-4dff-abfc-cf48f493b35d"
      },
      "execution_count": 5,
      "outputs": [
        {
          "output_type": "display_data",
          "data": {
            "text/plain": [
              "<Figure size 1000x600 with 1 Axes>"
            ],
            "image/png": "[encoded data removed]"
          },
          "metadata": {}
        }
      ]
    }
  ],
  "metadata": {
    "colab": {
      "provenance": [],
      "authorship_tag": "ABX9TyNTaBmwWE6pIWfWdL0JgGe/",
      "include_colab_link": true
    },
    "kernelspec": {
      "display_name": "Python 3",
      "name": "python3"
    },
    "language_info": {
      "name": "python"
    }
  },
  "nbformat": 4,
  "nbformat_minor": 0
}